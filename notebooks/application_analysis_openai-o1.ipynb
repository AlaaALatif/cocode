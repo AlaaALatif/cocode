{
 "cells": [
  {
   "cell_type": "code",
   "execution_count": null,
   "id": "a2838b5d",
   "metadata": {},
   "outputs": [],
   "source": [
    "import os\n",
    "import shutil\n",
    "import json\n",
    "import glob\n",
    "import docx\n",
    "import torch\n",
    "import numpy as np\n",
    "import pandas as pd\n",
    "import openai\n",
    "from openai import OpenAI\n",
    "from tqdm.notebook import tqdm\n",
    "from docx import Document\n",
    "from docxcompose.composer import Composer\n",
    "from docx.enum.text import WD_ALIGN_PARAGRAPH\n",
    "from docx.shared import Pt\n",
    "import markdown\n",
    "import markdown2\n",
    "import pdfkit\n",
    "from pygments.formatters import HtmlFormatter\n",
    "import pypandoc\n",
    "from bs4 import BeautifulSoup\n",
    "import re\n",
    "# from weasyprint import HTML"
   ]
  },
  {
   "cell_type": "code",
   "execution_count": null,
   "id": "0233ec98",
   "metadata": {},
   "outputs": [],
   "source": [
    "# # Path to the JSON file where you want to save the mapping\n",
    "# json_file_path = \"/Users/alaa/Documents/ucsf/data/addo_dc/gpt_data/filename_mapping.json\"\n",
    "\n",
    "# # Writing the dictionary to the JSON file\n",
    "# with open(json_file_path, 'r') as json_file:\n",
    "#     transcript_id_map = json.load(json_file)\n",
    "# print(transcript_id_map)"
   ]
  },
  {
   "cell_type": "code",
   "execution_count": null,
   "id": "c251c071",
   "metadata": {},
   "outputs": [],
   "source": [
    "# def add_transcript_id_to_docs(file_id_map: dict, file_dir: str):\n",
    "#     for original_filename, filename in transcript_id_map.items():\n",
    "#         file_id = filename.split('_')[1].split('.')[0]\n",
    "#         filepath = f\"{file_dir}/{filename}\"\n",
    "#         # Open the document\n",
    "#         doc = Document(filepath)\n",
    "#         # Add the Transcript ID at the beginning\n",
    "#         doc_paragraph = doc.paragraphs[0]\n",
    "#         doc_paragraph.insert_paragraph_before(f\"Transcript ID: {file_id}\")\n",
    "#         # Save the document with the updated content\n",
    "#         doc.save(filepath)\n",
    "# # add_transcript_id_to_docs(file_id_map=transcript_id_map, \n",
    "# #                           file_dir=\"/Users/alaa/Documents/ucsf/data/addo_dc/gpt_data\")"
   ]
  },
  {
   "cell_type": "code",
   "execution_count": null,
   "id": "4d663924",
   "metadata": {},
   "outputs": [],
   "source": [
    "all_contents = []"
   ]
  },
  {
   "cell_type": "code",
   "execution_count": null,
   "id": "11c2154b",
   "metadata": {},
   "outputs": [],
   "source": [
    "# List all application file and structure\n",
    "all_application_entities = glob.glob(\"/Users/alaa/Documents/swiftcraft/code/swiftcraft_backend/**/*\", recursive=True)\n",
    "# Filter to only include files (exclude directories)\n",
    "all_application_filepaths = [f for f in all_application_entities if not os.path.isdir(f) \\\n",
    "                             and 'README' not in f.split('/')[-1] \\\n",
    "                             and 'pyc' not in f.split('/')[-1] \\\n",
    "                             and 'table' not in f.split('/')[-1] \\\n",
    "                             and 'column' not in f.split('/')[-1] \\\n",
    "                             and 'extra' not in f.split('/')[-1] \\\n",
    "                            and 'zip' not in f.split('/')[-1]]\n",
    "print(len(all_application_filepaths))"
   ]
  },
  {
   "cell_type": "code",
   "execution_count": null,
   "id": "ab5e5241",
   "metadata": {},
   "outputs": [],
   "source": [
    "# List all application file and structure\n",
    "all_fe_entities = glob.glob(\"/Users/alaa/Documents/swiftcraft/code/swiftcraft_frontend/src/**/*.js\", recursive=True)\n",
    "# Filter to only include files (exclude directories)\n",
    "all_fe_filepaths = [f for f in all_fe_entities if not os.path.isdir(f) \\\n",
    "                             and 'README' not in f.split('/')[-1] \\\n",
    "                             and 'pyc' not in f.split('/')[-1] \\\n",
    "                             and 'table' not in f.split('/')[-1] \\\n",
    "                             and 'column' not in f.split('/')[-1] \\\n",
    "                             and 'extra' not in f.split('/')[-1] \\\n",
    "                            and 'zip' not in f.split('/')[-1]]\n",
    "print(len(all_fe_entities))"
   ]
  },
  {
   "cell_type": "code",
   "execution_count": null,
   "id": "473aeada",
   "metadata": {},
   "outputs": [],
   "source": [
    "agent_task = \"\"\"You will assist in the development of a FastAPI application for SwiftCraft.\n",
    "Here we provide each of the files that belong to the codebase. \n",
    "You are always expected to work off of the existing codebase, \n",
    "modifying appropriate existing files or creating new files only if needed.\"\"\""
   ]
  },
  {
   "cell_type": "code",
   "execution_count": null,
   "id": "f028d5a5",
   "metadata": {},
   "outputs": [],
   "source": []
  },
  {
   "cell_type": "code",
   "execution_count": null,
   "id": "661b478a",
   "metadata": {},
   "outputs": [],
   "source": []
  },
  {
   "cell_type": "code",
   "execution_count": null,
   "id": "da616e51",
   "metadata": {},
   "outputs": [],
   "source": []
  },
  {
   "cell_type": "code",
   "execution_count": null,
   "id": "474ed4d8",
   "metadata": {},
   "outputs": [],
   "source": [
    "# \"/Users/alaa/Documents/swiftcraft/code/swiftcraft_backend/email_service_account/swiftcraftweb-21142c8c9e06.json\""
   ]
  },
  {
   "cell_type": "code",
   "execution_count": null,
   "id": "d21c880e",
   "metadata": {},
   "outputs": [],
   "source": [
    "# Define the keywords\n",
    "keywords = [\"custom-timeouts\", \"schemas\", \"models\", \"database\", \n",
    "            \"agent_tech\", \"agent_mech\", \n",
    "#             \"email.py\",\n",
    "#             \"email_service.py\",\n",
    "#             \"check_active_projects\"\n",
    "#             \"email_service.py\"\n",
    "            \"communication\",\n",
    "            \"communication_service\",\n",
    "            \"sms_service\",\n",
    "            \"sms\",\n",
    "#             \"stakeholder\",\n",
    "#             \"activation\", \n",
    "#             \"account\",\n",
    "#             \"activation_service.py\",\n",
    "#             \"project.py\", \n",
    "#             \"project_service.py\",\n",
    "#             \"check_active_projects.py\"\n",
    "#             \"instruction\"\n",
    "           ]\n",
    "\n",
    "all_messages = [{\"role\": \"user\", \"content\": agent_task}]\n",
    "\n",
    "for fp in all_application_filepaths:\n",
    "    # Only proceed if the file path contains at least one keyword\n",
    "    if any(keyword in fp for keyword in keywords):\n",
    "        if 'outlook_email.py' in fp or 'gmail_email' in fp or 'outlook_email_service.py' in fp:\n",
    "            continue\n",
    "        filename = fp.split('/')[-1]\n",
    "        print(filename)\n",
    "        with open(fp, 'r') as file:\n",
    "            file_content = file.read()\n",
    "        message_content = f\"file name: {filename}\\n{file_content}\"\n",
    "        message = {\"role\": \"user\", \"content\": message_content}\n",
    "        all_messages.append(message)\n",
    "\n",
    "print(len(all_messages))"
   ]
  },
  {
   "cell_type": "code",
   "execution_count": null,
   "id": "8771b1f0",
   "metadata": {},
   "outputs": [],
   "source": [
    "# all_messages[6]"
   ]
  },
  {
   "cell_type": "code",
   "execution_count": null,
   "id": "1a513509",
   "metadata": {},
   "outputs": [],
   "source": [
    "# query_id = 9000"
   ]
  },
  {
   "cell_type": "code",
   "execution_count": null,
   "id": "0972369c",
   "metadata": {},
   "outputs": [],
   "source": [
    "# # all_messages = [{\"role\": \"user\", \"content\": agent_task}]\n",
    "# for fp in all_fe_entities:\n",
    "#     filename = fp.split('/')[-1]\n",
    "#     print(filename)\n",
    "#     try:\n",
    "#         with open(fp, 'r') as file:\n",
    "#             file_content = file.read()\n",
    "#         message_content = f\"file name: {filename}\\n{file_content}\"\n",
    "#         message = {\"role\": \"user\", \"content\": message_content}\n",
    "#         all_messages.append(message)\n",
    "#     except:\n",
    "#         continue"
   ]
  },
  {
   "cell_type": "code",
   "execution_count": null,
   "id": "ac394c43",
   "metadata": {},
   "outputs": [],
   "source": []
  },
  {
   "cell_type": "code",
   "execution_count": null,
   "id": "edcfe5e0",
   "metadata": {},
   "outputs": [],
   "source": [
    "query_id += 10\n",
    "user_query = \"\"\"\n",
    "\"\"\"\n",
    "user_message = {\"role\": \"user\", \"content\": user_query}\n"
   ]
  },
  {
   "cell_type": "code",
   "execution_count": null,
   "id": "b42999fa",
   "metadata": {},
   "outputs": [],
   "source": [
    "# agent_message = {\"role\": \"user\", \"content\": raw_output}\n",
    "# user_query2 = \"\"\"I want the invite to be logged as a communication with a new thread and comm_type='calendar'\n",
    "# \"\"\"\n",
    "# user_reply = {\"role\": \"user\", \"content\": user_query2}"
   ]
  },
  {
   "cell_type": "code",
   "execution_count": null,
   "id": "daeb88aa",
   "metadata": {},
   "outputs": [],
   "source": [
    "# err_msg = \"\"\"\n",
    "# Provide code for a python script that takes the markdown and replaces all newlines with appropriate newline character \\n so that it can be copy\n",
    "# \"\"\"\n",
    "# err_message = {\"role\": \"user\", \"content\": err_msg}"
   ]
  },
  {
   "cell_type": "code",
   "execution_count": null,
   "id": "ebb6170b",
   "metadata": {},
   "outputs": [],
   "source": [
    "agent_input = all_messages + [user_message]\n",
    "#+ [agent_message] + [user_reply]\n",
    "#+ [err_message]\n",
    "agent_input"
   ]
  },
  {
   "cell_type": "code",
   "execution_count": null,
   "id": "091cc2ef",
   "metadata": {},
   "outputs": [],
   "source": [
    "client = OpenAI()\n",
    "response = client.chat.completions.create(\n",
    "    model=\"o1-preview\",\n",
    "#     reasoning_effort=\"high\",\n",
    "    messages=agent_input\n",
    ")\n",
    "print(response.choices[0].message.content)"
   ]
  },
  {
   "cell_type": "code",
   "execution_count": null,
   "id": "d0ae76ee",
   "metadata": {},
   "outputs": [],
   "source": [
    "raw_output = response.choices[0].message.content"
   ]
  },
  {
   "cell_type": "code",
   "execution_count": null,
   "id": "44bc6ba9",
   "metadata": {},
   "outputs": [],
   "source": [
    "with open(f'/docs/agent_output_test{query_id}_raw.md', 'w', encoding='utf-8') as f:\n",
    "    f.write(raw_output)"
   ]
  },
  {
   "cell_type": "code",
   "execution_count": null,
   "id": "d34b9483",
   "metadata": {},
   "outputs": [],
   "source": [
    "print(f'/docs/agent_output_test{query_id}_raw.md')"
   ]
  }
 ],
 "metadata": {
  "kernelspec": {
   "display_name": "Python 3 (ipykernel)",
   "language": "python",
   "name": "python3"
  },
  "language_info": {
   "codemirror_mode": {
    "name": "ipython",
    "version": 3
   },
   "file_extension": ".py",
   "mimetype": "text/x-python",
   "name": "python",
   "nbconvert_exporter": "python",
   "pygments_lexer": "ipython3",
   "version": "3.10.13"
  }
 },
 "nbformat": 4,
 "nbformat_minor": 5
}
